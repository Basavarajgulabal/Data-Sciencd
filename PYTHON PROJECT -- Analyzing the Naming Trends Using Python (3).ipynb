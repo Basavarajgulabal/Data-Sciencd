{
 "cells": [
  {
   "cell_type": "markdown",
   "id": "cc012a2d",
   "metadata": {},
   "source": [
    "# PROJECT - Analyzing the Naming Trends Using Python"
   ]
  },
  {
   "cell_type": "markdown",
   "id": "76bc5fbd",
   "metadata": {},
   "source": [
    "Description: This project focusses on implementing data manipulation and data visualization \n",
    "using Pandas library, but also tests the ability to deal with real word problem statements. "
   ]
  },
  {
   "cell_type": "markdown",
   "id": "fbb33664",
   "metadata": {},
   "source": [
    "DATASET: Popular baby names data provided by Social Security Administration (SSA) of United States .\n",
    "\n",
    "DATASET LINK: https://www.ssa.gov/oact/babynames/limits.html"
   ]
  },
  {
   "cell_type": "markdown",
   "id": "d6dd4eb8",
   "metadata": {},
   "source": [
    "Import libraries"
   ]
  },
  {
   "cell_type": "code",
   "execution_count": 1,
   "id": "8f7241bb",
   "metadata": {},
   "outputs": [
    {
     "name": "stdout",
     "output_type": "stream",
     "text": [
      "Populating the interactive namespace from numpy and matplotlib\n"
     ]
    },
    {
     "data": {
      "text/html": [
       "<div>\n",
       "<style scoped>\n",
       "    .dataframe tbody tr th:only-of-type {\n",
       "        vertical-align: middle;\n",
       "    }\n",
       "\n",
       "    .dataframe tbody tr th {\n",
       "        vertical-align: top;\n",
       "    }\n",
       "\n",
       "    .dataframe thead th {\n",
       "        text-align: right;\n",
       "    }\n",
       "</style>\n",
       "<table border=\"1\" class=\"dataframe\">\n",
       "  <thead>\n",
       "    <tr style=\"text-align: right;\">\n",
       "      <th></th>\n",
       "      <th>name</th>\n",
       "      <th>sex</th>\n",
       "      <th>birth</th>\n",
       "    </tr>\n",
       "  </thead>\n",
       "  <tbody>\n",
       "    <tr>\n",
       "      <th>0</th>\n",
       "      <td>Mary</td>\n",
       "      <td>F</td>\n",
       "      <td>7065</td>\n",
       "    </tr>\n",
       "    <tr>\n",
       "      <th>1</th>\n",
       "      <td>Anna</td>\n",
       "      <td>F</td>\n",
       "      <td>2604</td>\n",
       "    </tr>\n",
       "    <tr>\n",
       "      <th>2</th>\n",
       "      <td>Emma</td>\n",
       "      <td>F</td>\n",
       "      <td>2003</td>\n",
       "    </tr>\n",
       "    <tr>\n",
       "      <th>3</th>\n",
       "      <td>Elizabeth</td>\n",
       "      <td>F</td>\n",
       "      <td>1939</td>\n",
       "    </tr>\n",
       "    <tr>\n",
       "      <th>4</th>\n",
       "      <td>Minnie</td>\n",
       "      <td>F</td>\n",
       "      <td>1746</td>\n",
       "    </tr>\n",
       "  </tbody>\n",
       "</table>\n",
       "</div>"
      ],
      "text/plain": [
       "        name sex  birth\n",
       "0       Mary   F   7065\n",
       "1       Anna   F   2604\n",
       "2       Emma   F   2003\n",
       "3  Elizabeth   F   1939\n",
       "4     Minnie   F   1746"
      ]
     },
     "execution_count": 1,
     "metadata": {},
     "output_type": "execute_result"
    }
   ],
   "source": [
    "%pylab inline\n",
    "import pandas as pd\n",
    "import matplotlib.pyplot as plt\n",
    "import numpy as np\n",
    "import os\n",
    "b_name=pd.read_csv('yob1880.txt',names=['name','sex','birth'])\n",
    "b_name.head(5)"
   ]
  },
  {
   "cell_type": "markdown",
   "id": "1c22c35f",
   "metadata": {},
   "source": [
    "Print total male & female birth in year 1880"
   ]
  },
  {
   "cell_type": "code",
   "execution_count": 2,
   "id": "ad5b9b02",
   "metadata": {},
   "outputs": [
    {
     "data": {
      "text/plain": [
       "sex\n",
       "F     90994\n",
       "M    110490\n",
       "Name: birth, dtype: int64"
      ]
     },
     "execution_count": 2,
     "metadata": {},
     "output_type": "execute_result"
    }
   ],
   "source": [
    "b_name.groupby('sex').birth.sum()"
   ]
  },
  {
   "cell_type": "markdown",
   "id": "9c804c3a",
   "metadata": {},
   "source": [
    "concatenate dataset"
   ]
  },
  {
   "cell_type": "code",
   "execution_count": 31,
   "id": "90fccc48",
   "metadata": {},
   "outputs": [
    {
     "data": {
      "text/html": [
       "<div>\n",
       "<style scoped>\n",
       "    .dataframe tbody tr th:only-of-type {\n",
       "        vertical-align: middle;\n",
       "    }\n",
       "\n",
       "    .dataframe tbody tr th {\n",
       "        vertical-align: top;\n",
       "    }\n",
       "\n",
       "    .dataframe thead th {\n",
       "        text-align: right;\n",
       "    }\n",
       "</style>\n",
       "<table border=\"1\" class=\"dataframe\">\n",
       "  <thead>\n",
       "    <tr style=\"text-align: right;\">\n",
       "      <th></th>\n",
       "      <th>name</th>\n",
       "      <th>sex</th>\n",
       "      <th>birth</th>\n",
       "      <th>year</th>\n",
       "    </tr>\n",
       "  </thead>\n",
       "  <tbody>\n",
       "    <tr>\n",
       "      <th>0</th>\n",
       "      <td>Mary</td>\n",
       "      <td>F</td>\n",
       "      <td>7065</td>\n",
       "      <td>1880</td>\n",
       "    </tr>\n",
       "    <tr>\n",
       "      <th>1</th>\n",
       "      <td>Anna</td>\n",
       "      <td>F</td>\n",
       "      <td>2604</td>\n",
       "      <td>1880</td>\n",
       "    </tr>\n",
       "    <tr>\n",
       "      <th>2</th>\n",
       "      <td>Emma</td>\n",
       "      <td>F</td>\n",
       "      <td>2003</td>\n",
       "      <td>1880</td>\n",
       "    </tr>\n",
       "    <tr>\n",
       "      <th>3</th>\n",
       "      <td>Elizabeth</td>\n",
       "      <td>F</td>\n",
       "      <td>1939</td>\n",
       "      <td>1880</td>\n",
       "    </tr>\n",
       "    <tr>\n",
       "      <th>4</th>\n",
       "      <td>Minnie</td>\n",
       "      <td>F</td>\n",
       "      <td>1746</td>\n",
       "      <td>1880</td>\n",
       "    </tr>\n",
       "    <tr>\n",
       "      <th>...</th>\n",
       "      <td>...</td>\n",
       "      <td>...</td>\n",
       "      <td>...</td>\n",
       "      <td>...</td>\n",
       "    </tr>\n",
       "    <tr>\n",
       "      <th>1957713</th>\n",
       "      <td>Zylas</td>\n",
       "      <td>M</td>\n",
       "      <td>5</td>\n",
       "      <td>2018</td>\n",
       "    </tr>\n",
       "    <tr>\n",
       "      <th>1957714</th>\n",
       "      <td>Zyran</td>\n",
       "      <td>M</td>\n",
       "      <td>5</td>\n",
       "      <td>2018</td>\n",
       "    </tr>\n",
       "    <tr>\n",
       "      <th>1957715</th>\n",
       "      <td>Zyrie</td>\n",
       "      <td>M</td>\n",
       "      <td>5</td>\n",
       "      <td>2018</td>\n",
       "    </tr>\n",
       "    <tr>\n",
       "      <th>1957716</th>\n",
       "      <td>Zyron</td>\n",
       "      <td>M</td>\n",
       "      <td>5</td>\n",
       "      <td>2018</td>\n",
       "    </tr>\n",
       "    <tr>\n",
       "      <th>1957717</th>\n",
       "      <td>Zzyzx</td>\n",
       "      <td>M</td>\n",
       "      <td>5</td>\n",
       "      <td>2018</td>\n",
       "    </tr>\n",
       "  </tbody>\n",
       "</table>\n",
       "<p>1957718 rows × 4 columns</p>\n",
       "</div>"
      ],
      "text/plain": [
       "              name sex  birth  year\n",
       "0             Mary   F   7065  1880\n",
       "1             Anna   F   2604  1880\n",
       "2             Emma   F   2003  1880\n",
       "3        Elizabeth   F   1939  1880\n",
       "4           Minnie   F   1746  1880\n",
       "...            ...  ..    ...   ...\n",
       "1957713      Zylas   M      5  2018\n",
       "1957714      Zyran   M      5  2018\n",
       "1957715      Zyrie   M      5  2018\n",
       "1957716      Zyron   M      5  2018\n",
       "1957717      Zzyzx   M      5  2018\n",
       "\n",
       "[1957718 rows x 4 columns]"
      ]
     },
     "execution_count": 31,
     "metadata": {},
     "output_type": "execute_result"
    }
   ],
   "source": [
    "years=range(1880,2019)\n",
    "arr=[]\n",
    "columns=['name','sex','birth']\n",
    "for year in years:\n",
    "    path='yob%d.txt' % year\n",
    "    frame=pd.read_csv(path,names=columns)\n",
    "    \n",
    "    frame['year']=year\n",
    "    arr.append(frame)\n",
    "\n",
    "name=pd.concat(arr,ignore_index=True)\n",
    "name"
   ]
  },
  {
   "cell_type": "markdown",
   "id": "c0d9032b",
   "metadata": {},
   "source": [
    "Print total birth of male & feamle in each year"
   ]
  },
  {
   "cell_type": "code",
   "execution_count": 33,
   "id": "c3d5e4c9",
   "metadata": {},
   "outputs": [],
   "source": [
    "total_birth=name.pivot_table('birth',index='year',columns='sex',aggfunc=sum)"
   ]
  },
  {
   "cell_type": "code",
   "execution_count": 34,
   "id": "19a7a757",
   "metadata": {},
   "outputs": [
    {
     "data": {
      "text/html": [
       "<div>\n",
       "<style scoped>\n",
       "    .dataframe tbody tr th:only-of-type {\n",
       "        vertical-align: middle;\n",
       "    }\n",
       "\n",
       "    .dataframe tbody tr th {\n",
       "        vertical-align: top;\n",
       "    }\n",
       "\n",
       "    .dataframe thead th {\n",
       "        text-align: right;\n",
       "    }\n",
       "</style>\n",
       "<table border=\"1\" class=\"dataframe\">\n",
       "  <thead>\n",
       "    <tr style=\"text-align: right;\">\n",
       "      <th>sex</th>\n",
       "      <th>F</th>\n",
       "      <th>M</th>\n",
       "    </tr>\n",
       "    <tr>\n",
       "      <th>year</th>\n",
       "      <th></th>\n",
       "      <th></th>\n",
       "    </tr>\n",
       "  </thead>\n",
       "  <tbody>\n",
       "    <tr>\n",
       "      <th>1880</th>\n",
       "      <td>90994</td>\n",
       "      <td>110490</td>\n",
       "    </tr>\n",
       "    <tr>\n",
       "      <th>1881</th>\n",
       "      <td>91953</td>\n",
       "      <td>100737</td>\n",
       "    </tr>\n",
       "    <tr>\n",
       "      <th>1882</th>\n",
       "      <td>107847</td>\n",
       "      <td>113686</td>\n",
       "    </tr>\n",
       "    <tr>\n",
       "      <th>1883</th>\n",
       "      <td>112319</td>\n",
       "      <td>104625</td>\n",
       "    </tr>\n",
       "    <tr>\n",
       "      <th>1884</th>\n",
       "      <td>129019</td>\n",
       "      <td>114442</td>\n",
       "    </tr>\n",
       "  </tbody>\n",
       "</table>\n",
       "</div>"
      ],
      "text/plain": [
       "sex        F       M\n",
       "year                \n",
       "1880   90994  110490\n",
       "1881   91953  100737\n",
       "1882  107847  113686\n",
       "1883  112319  104625\n",
       "1884  129019  114442"
      ]
     },
     "execution_count": 34,
     "metadata": {},
     "output_type": "execute_result"
    }
   ],
   "source": [
    "total_birth.head()"
   ]
  },
  {
   "cell_type": "markdown",
   "id": "d20bdfc5",
   "metadata": {},
   "source": [
    "Plot'Total Birth by sex and year'"
   ]
  },
  {
   "cell_type": "code",
   "execution_count": 35,
   "id": "d2910878",
   "metadata": {},
   "outputs": [
    {
     "data": {
      "text/plain": [
       "<AxesSubplot:title={'center':'Total Birth by sex and year'}, xlabel='year'>"
      ]
     },
     "execution_count": 35,
     "metadata": {},
     "output_type": "execute_result"
    },
    {
     "data": {
      "image/png": "[encoded data removed]",
      "text/plain": [
       "<Figure size 432x288 with 1 Axes>"
      ]
     },
     "metadata": {
      "needs_background": "light"
     },
     "output_type": "display_data"
    }
   ],
   "source": [
    "total_birth.plot(title='Total Birth by sex and year')"
   ]
  },
  {
   "cell_type": "markdown",
   "id": "35253a71",
   "metadata": {},
   "source": [
    "display a table to print percentage of baby name in each year"
   ]
  },
  {
   "cell_type": "code",
   "execution_count": 36,
   "id": "7be3d1ae",
   "metadata": {},
   "outputs": [
    {
     "data": {
      "text/html": [
       "<div>\n",
       "<style scoped>\n",
       "    .dataframe tbody tr th:only-of-type {\n",
       "        vertical-align: middle;\n",
       "    }\n",
       "\n",
       "    .dataframe tbody tr th {\n",
       "        vertical-align: top;\n",
       "    }\n",
       "\n",
       "    .dataframe thead th {\n",
       "        text-align: right;\n",
       "    }\n",
       "</style>\n",
       "<table border=\"1\" class=\"dataframe\">\n",
       "  <thead>\n",
       "    <tr style=\"text-align: right;\">\n",
       "      <th></th>\n",
       "      <th>name</th>\n",
       "      <th>sex</th>\n",
       "      <th>birth</th>\n",
       "      <th>year</th>\n",
       "      <th>popular_name</th>\n",
       "    </tr>\n",
       "  </thead>\n",
       "  <tbody>\n",
       "    <tr>\n",
       "      <th>0</th>\n",
       "      <td>Mary</td>\n",
       "      <td>F</td>\n",
       "      <td>7065</td>\n",
       "      <td>1880</td>\n",
       "      <td>7.764248</td>\n",
       "    </tr>\n",
       "    <tr>\n",
       "      <th>1</th>\n",
       "      <td>Anna</td>\n",
       "      <td>F</td>\n",
       "      <td>2604</td>\n",
       "      <td>1880</td>\n",
       "      <td>2.861727</td>\n",
       "    </tr>\n",
       "    <tr>\n",
       "      <th>2</th>\n",
       "      <td>Emma</td>\n",
       "      <td>F</td>\n",
       "      <td>2003</td>\n",
       "      <td>1880</td>\n",
       "      <td>2.201244</td>\n",
       "    </tr>\n",
       "    <tr>\n",
       "      <th>3</th>\n",
       "      <td>Elizabeth</td>\n",
       "      <td>F</td>\n",
       "      <td>1939</td>\n",
       "      <td>1880</td>\n",
       "      <td>2.130910</td>\n",
       "    </tr>\n",
       "    <tr>\n",
       "      <th>4</th>\n",
       "      <td>Minnie</td>\n",
       "      <td>F</td>\n",
       "      <td>1746</td>\n",
       "      <td>1880</td>\n",
       "      <td>1.918808</td>\n",
       "    </tr>\n",
       "    <tr>\n",
       "      <th>...</th>\n",
       "      <td>...</td>\n",
       "      <td>...</td>\n",
       "      <td>...</td>\n",
       "      <td>...</td>\n",
       "      <td>...</td>\n",
       "    </tr>\n",
       "    <tr>\n",
       "      <th>1957713</th>\n",
       "      <td>Zylas</td>\n",
       "      <td>M</td>\n",
       "      <td>5</td>\n",
       "      <td>2018</td>\n",
       "      <td>0.000276</td>\n",
       "    </tr>\n",
       "    <tr>\n",
       "      <th>1957714</th>\n",
       "      <td>Zyran</td>\n",
       "      <td>M</td>\n",
       "      <td>5</td>\n",
       "      <td>2018</td>\n",
       "      <td>0.000276</td>\n",
       "    </tr>\n",
       "    <tr>\n",
       "      <th>1957715</th>\n",
       "      <td>Zyrie</td>\n",
       "      <td>M</td>\n",
       "      <td>5</td>\n",
       "      <td>2018</td>\n",
       "      <td>0.000276</td>\n",
       "    </tr>\n",
       "    <tr>\n",
       "      <th>1957716</th>\n",
       "      <td>Zyron</td>\n",
       "      <td>M</td>\n",
       "      <td>5</td>\n",
       "      <td>2018</td>\n",
       "      <td>0.000276</td>\n",
       "    </tr>\n",
       "    <tr>\n",
       "      <th>1957717</th>\n",
       "      <td>Zzyzx</td>\n",
       "      <td>M</td>\n",
       "      <td>5</td>\n",
       "      <td>2018</td>\n",
       "      <td>0.000276</td>\n",
       "    </tr>\n",
       "  </tbody>\n",
       "</table>\n",
       "<p>1957718 rows × 5 columns</p>\n",
       "</div>"
      ],
      "text/plain": [
       "              name sex  birth  year  popular_name\n",
       "0             Mary   F   7065  1880      7.764248\n",
       "1             Anna   F   2604  1880      2.861727\n",
       "2             Emma   F   2003  1880      2.201244\n",
       "3        Elizabeth   F   1939  1880      2.130910\n",
       "4           Minnie   F   1746  1880      1.918808\n",
       "...            ...  ..    ...   ...           ...\n",
       "1957713      Zylas   M      5  2018      0.000276\n",
       "1957714      Zyran   M      5  2018      0.000276\n",
       "1957715      Zyrie   M      5  2018      0.000276\n",
       "1957716      Zyron   M      5  2018      0.000276\n",
       "1957717      Zzyzx   M      5  2018      0.000276\n",
       "\n",
       "[1957718 rows x 5 columns]"
      ]
     },
     "execution_count": 36,
     "metadata": {},
     "output_type": "execute_result"
    }
   ],
   "source": [
    "def add_pname(popular_name):\n",
    "    popular_name['popular_name']=((popular_name.birth/popular_name.birth.sum())*100)\n",
    "    return popular_name\n",
    "\n",
    "name=name.groupby(['year','sex']).apply(add_pname)\n",
    "name"
   ]
  },
  {
   "cell_type": "code",
   "execution_count": 38,
   "id": "f81805ea",
   "metadata": {},
   "outputs": [],
   "source": [
    "def top_name(popular_name):\n",
    "    return popular_name.sort_values(by='birth',ascending=False)[:10]\n",
    "p_name=name.groupby(['sex','birth'])\n",
    "top_100=p_name.apply(top_name)\n",
    "top_100.reset_index(inplace=True,drop=True)"
   ]
  },
  {
   "cell_type": "markdown",
   "id": "df5a695e",
   "metadata": {},
   "source": [
    "Analysing naming trends"
   ]
  },
  {
   "cell_type": "code",
   "execution_count": 39,
   "id": "91ef142c",
   "metadata": {},
   "outputs": [],
   "source": [
    "boy_name = top_100[top_100.sex == 'M']\n",
    "girl_name = top_100[top_100.sex == 'F']\n",
    "total_birth = top_100.pivot_table('birth', index = 'year', columns = 'name', aggfunc = sum)"
   ]
  },
  {
   "cell_type": "code",
   "execution_count": 40,
   "id": "e29f4da5",
   "metadata": {},
   "outputs": [
    {
     "data": {
      "text/html": [
       "<div>\n",
       "<style scoped>\n",
       "    .dataframe tbody tr th:only-of-type {\n",
       "        vertical-align: middle;\n",
       "    }\n",
       "\n",
       "    .dataframe tbody tr th {\n",
       "        vertical-align: top;\n",
       "    }\n",
       "\n",
       "    .dataframe thead th {\n",
       "        text-align: right;\n",
       "    }\n",
       "</style>\n",
       "<table border=\"1\" class=\"dataframe\">\n",
       "  <thead>\n",
       "    <tr style=\"text-align: right;\">\n",
       "      <th></th>\n",
       "      <th>name</th>\n",
       "      <th>sex</th>\n",
       "      <th>birth</th>\n",
       "      <th>year</th>\n",
       "      <th>popular_name</th>\n",
       "    </tr>\n",
       "  </thead>\n",
       "  <tbody>\n",
       "    <tr>\n",
       "      <th>35137</th>\n",
       "      <td>Ab</td>\n",
       "      <td>M</td>\n",
       "      <td>5</td>\n",
       "      <td>1880</td>\n",
       "      <td>0.004525</td>\n",
       "    </tr>\n",
       "    <tr>\n",
       "      <th>35138</th>\n",
       "      <td>Gaebriel</td>\n",
       "      <td>M</td>\n",
       "      <td>5</td>\n",
       "      <td>2000</td>\n",
       "      <td>0.000255</td>\n",
       "    </tr>\n",
       "    <tr>\n",
       "      <th>35139</th>\n",
       "      <td>Gabin</td>\n",
       "      <td>M</td>\n",
       "      <td>5</td>\n",
       "      <td>2000</td>\n",
       "      <td>0.000255</td>\n",
       "    </tr>\n",
       "    <tr>\n",
       "      <th>35140</th>\n",
       "      <td>Fredderick</td>\n",
       "      <td>M</td>\n",
       "      <td>5</td>\n",
       "      <td>2000</td>\n",
       "      <td>0.000255</td>\n",
       "    </tr>\n",
       "    <tr>\n",
       "      <th>35141</th>\n",
       "      <td>Franko</td>\n",
       "      <td>M</td>\n",
       "      <td>5</td>\n",
       "      <td>2000</td>\n",
       "      <td>0.000255</td>\n",
       "    </tr>\n",
       "  </tbody>\n",
       "</table>\n",
       "</div>"
      ],
      "text/plain": [
       "             name sex  birth  year  popular_name\n",
       "35137          Ab   M      5  1880      0.004525\n",
       "35138    Gaebriel   M      5  2000      0.000255\n",
       "35139       Gabin   M      5  2000      0.000255\n",
       "35140  Fredderick   M      5  2000      0.000255\n",
       "35141      Franko   M      5  2000      0.000255"
      ]
     },
     "execution_count": 40,
     "metadata": {},
     "output_type": "execute_result"
    }
   ],
   "source": [
    "boy_name .head()"
   ]
  },
  {
   "cell_type": "code",
   "execution_count": 41,
   "id": "73f7675d",
   "metadata": {},
   "outputs": [
    {
     "data": {
      "text/html": [
       "<div>\n",
       "<style scoped>\n",
       "    .dataframe tbody tr th:only-of-type {\n",
       "        vertical-align: middle;\n",
       "    }\n",
       "\n",
       "    .dataframe tbody tr th {\n",
       "        vertical-align: top;\n",
       "    }\n",
       "\n",
       "    .dataframe thead th {\n",
       "        text-align: right;\n",
       "    }\n",
       "</style>\n",
       "<table border=\"1\" class=\"dataframe\">\n",
       "  <thead>\n",
       "    <tr style=\"text-align: right;\">\n",
       "      <th></th>\n",
       "      <th>name</th>\n",
       "      <th>sex</th>\n",
       "      <th>birth</th>\n",
       "      <th>year</th>\n",
       "      <th>popular_name</th>\n",
       "    </tr>\n",
       "  </thead>\n",
       "  <tbody>\n",
       "    <tr>\n",
       "      <th>0</th>\n",
       "      <td>Adelle</td>\n",
       "      <td>F</td>\n",
       "      <td>5</td>\n",
       "      <td>1880</td>\n",
       "      <td>0.005495</td>\n",
       "    </tr>\n",
       "    <tr>\n",
       "      <th>1</th>\n",
       "      <td>Troylynn</td>\n",
       "      <td>F</td>\n",
       "      <td>5</td>\n",
       "      <td>1998</td>\n",
       "      <td>0.000283</td>\n",
       "    </tr>\n",
       "    <tr>\n",
       "      <th>2</th>\n",
       "      <td>Trana</td>\n",
       "      <td>F</td>\n",
       "      <td>5</td>\n",
       "      <td>1998</td>\n",
       "      <td>0.000283</td>\n",
       "    </tr>\n",
       "    <tr>\n",
       "      <th>3</th>\n",
       "      <td>Trayana</td>\n",
       "      <td>F</td>\n",
       "      <td>5</td>\n",
       "      <td>1998</td>\n",
       "      <td>0.000283</td>\n",
       "    </tr>\n",
       "    <tr>\n",
       "      <th>4</th>\n",
       "      <td>Trevonna</td>\n",
       "      <td>F</td>\n",
       "      <td>5</td>\n",
       "      <td>1998</td>\n",
       "      <td>0.000283</td>\n",
       "    </tr>\n",
       "  </tbody>\n",
       "</table>\n",
       "</div>"
      ],
      "text/plain": [
       "       name sex  birth  year  popular_name\n",
       "0    Adelle   F      5  1880      0.005495\n",
       "1  Troylynn   F      5  1998      0.000283\n",
       "2     Trana   F      5  1998      0.000283\n",
       "3   Trayana   F      5  1998      0.000283\n",
       "4  Trevonna   F      5  1998      0.000283"
      ]
     },
     "execution_count": 41,
     "metadata": {},
     "output_type": "execute_result"
    }
   ],
   "source": [
    "girl_name.head()"
   ]
  },
  {
   "cell_type": "code",
   "execution_count": null,
   "id": "e55cbad6",
   "metadata": {},
   "outputs": [],
   "source": []
  }
 ],
 "metadata": {
  "kernelspec": {
   "display_name": "Python 3 (ipykernel)",
   "language": "python",
   "name": "python3"
  },
  "language_info": {
   "codemirror_mode": {
    "name": "ipython",
    "version": 3
   },
   "file_extension": ".py",
   "mimetype": "text/x-python",
   "name": "python",
   "nbconvert_exporter": "python",
   "pygments_lexer": "ipython3",
   "version": "3.9.12"
  }
 },
 "nbformat": 4,
 "nbformat_minor": 5
}
